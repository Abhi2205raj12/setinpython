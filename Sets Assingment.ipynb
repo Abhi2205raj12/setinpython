{
 "cells": [
  {
   "cell_type": "markdown",
   "id": "065d5204-fd09-4a78-bf8c-1db864ef7765",
   "metadata": {},
   "source": [
    "# Ques 1: What is a set in python?"
   ]
  },
  {
   "cell_type": "markdown",
   "id": "52ff3040-7cf1-4465-b6f3-2f6db4831cd1",
   "metadata": {},
   "source": [
    "Answer: A Set in Python programming is an unordered collection data type that is iterable, mutable and has no duplicate elements. \n",
    "\n",
    "Set are represented by { } (values enclosed in curly braces)\n",
    "\n",
    "The major advantage of using a set, as opposed to a list, is that it has a highly optimized method for checking whether a specific element is contained in the set. This is based on a data structure known as a hash table. Since sets are unordered, we cannot access items using indexes as we do in lists."
   ]
  },
  {
   "cell_type": "markdown",
   "id": "6d12b8f0-1630-440e-a21a-764d72afd0e1",
   "metadata": {},
   "source": [
    "# Ques 2: How do you create a set in python?"
   ]
  },
  {
   "cell_type": "markdown",
   "id": "adf49889-7527-43a5-958f-2424673080c3",
   "metadata": {},
   "source": [
    "Answer:"
   ]
  },
  {
   "cell_type": "code",
   "execution_count": 1,
   "id": "fbb43f21-e1e3-4f24-a4c6-d90b3759266b",
   "metadata": {},
   "outputs": [],
   "source": [
    "s={1,2,4,3,4,1,\"Abhi\",\"PWSKILLS\",True}"
   ]
  },
  {
   "cell_type": "code",
   "execution_count": 2,
   "id": "4e9d2794-a5af-4e5f-a7a6-97232d6ede95",
   "metadata": {},
   "outputs": [
    {
     "data": {
      "text/plain": [
       "set"
      ]
     },
     "execution_count": 2,
     "metadata": {},
     "output_type": "execute_result"
    }
   ],
   "source": [
    "type(s)"
   ]
  },
  {
   "cell_type": "code",
   "execution_count": 3,
   "id": "4d068ab9-7246-4704-a2ca-3f5e913f96fb",
   "metadata": {},
   "outputs": [
    {
     "data": {
      "text/plain": [
       "{1, 2, 3, 4, 'Abhi', 'PWSKILLS'}"
      ]
     },
     "execution_count": 3,
     "metadata": {},
     "output_type": "execute_result"
    }
   ],
   "source": [
    "s"
   ]
  },
  {
   "cell_type": "markdown",
   "id": "cc56db34-418e-4cc9-a9fb-5bfc41bfd261",
   "metadata": {},
   "source": [
    "# Ques 3: How do you add an elements to a set in Python?"
   ]
  },
  {
   "cell_type": "markdown",
   "id": "6d4cfbae-72e9-43b3-8d52-016cb984787e",
   "metadata": {},
   "source": [
    "Answer: "
   ]
  },
  {
   "cell_type": "code",
   "execution_count": 4,
   "id": "d41b5a11-32d6-435f-a70b-5cc95f75ac28",
   "metadata": {},
   "outputs": [
    {
     "data": {
      "text/plain": [
       "{1, 2, 3, 4, 'Abhi', 'PWSKILLS'}"
      ]
     },
     "execution_count": 4,
     "metadata": {},
     "output_type": "execute_result"
    }
   ],
   "source": [
    "s"
   ]
  },
  {
   "cell_type": "code",
   "execution_count": 5,
   "id": "beac32ad-5cb9-4e0b-b1b5-d977f990a323",
   "metadata": {},
   "outputs": [],
   "source": [
    "s.add(100)"
   ]
  },
  {
   "cell_type": "code",
   "execution_count": 6,
   "id": "8fb3bcfe-b399-4e75-8f60-c2e4a99186b6",
   "metadata": {},
   "outputs": [
    {
     "data": {
      "text/plain": [
       "{1, 100, 2, 3, 4, 'Abhi', 'PWSKILLS'}"
      ]
     },
     "execution_count": 6,
     "metadata": {},
     "output_type": "execute_result"
    }
   ],
   "source": [
    "s"
   ]
  },
  {
   "cell_type": "markdown",
   "id": "ab480857-8930-4204-bb00-4547ee56300f",
   "metadata": {},
   "source": [
    "# Ques 4: How do you remove element from a set in python?"
   ]
  },
  {
   "cell_type": "markdown",
   "id": "97726726-1911-413a-8af8-547f1a9bd1bc",
   "metadata": {},
   "source": [
    "Answer:"
   ]
  },
  {
   "cell_type": "code",
   "execution_count": 7,
   "id": "531e1a3b-9fd7-403e-83f1-c65edcd61d12",
   "metadata": {},
   "outputs": [
    {
     "data": {
      "text/plain": [
       "{1, 100, 2, 3, 4, 'Abhi', 'PWSKILLS'}"
      ]
     },
     "execution_count": 7,
     "metadata": {},
     "output_type": "execute_result"
    }
   ],
   "source": [
    "s"
   ]
  },
  {
   "cell_type": "code",
   "execution_count": 9,
   "id": "0c9355fb-6e61-4855-89e5-ac5d67f424a5",
   "metadata": {},
   "outputs": [],
   "source": [
    "s.remove(3)"
   ]
  },
  {
   "cell_type": "code",
   "execution_count": 10,
   "id": "0837f82c-f16a-4770-b43d-44ca54a6ead6",
   "metadata": {},
   "outputs": [
    {
     "data": {
      "text/plain": [
       "{1, 100, 2, 4, 'Abhi', 'PWSKILLS'}"
      ]
     },
     "execution_count": 10,
     "metadata": {},
     "output_type": "execute_result"
    }
   ],
   "source": [
    "s"
   ]
  },
  {
   "cell_type": "markdown",
   "id": "f6caac1c-11a7-4927-9011-541dde05e724",
   "metadata": {},
   "source": [
    "# Ques 5: How do you get the length of a set in python?"
   ]
  },
  {
   "cell_type": "code",
   "execution_count": null,
   "id": "286874b2-e374-4e91-a3d5-6af7376ea9bf",
   "metadata": {},
   "outputs": [],
   "source": []
  }
 ],
 "metadata": {
  "kernelspec": {
   "display_name": "Python 3 (ipykernel)",
   "language": "python",
   "name": "python3"
  },
  "language_info": {
   "codemirror_mode": {
    "name": "ipython",
    "version": 3
   },
   "file_extension": ".py",
   "mimetype": "text/x-python",
   "name": "python",
   "nbconvert_exporter": "python",
   "pygments_lexer": "ipython3",
   "version": "3.10.8"
  }
 },
 "nbformat": 4,
 "nbformat_minor": 5
}
